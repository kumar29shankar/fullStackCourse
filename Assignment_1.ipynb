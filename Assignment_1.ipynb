{
 "cells": [
  {
   "cell_type": "code",
   "execution_count": 1,
   "metadata": {},
   "outputs": [
    {
     "data": {
      "text/plain": [
       "\"\\n(1)\\n\\nValues: 'hello', -87.8, 6\\n\\nExpressions: *, -, /, +\\n\\n\\n\""
      ]
     },
     "execution_count": 1,
     "metadata": {},
     "output_type": "execute_result"
    }
   ],
   "source": [
    "\"\"\"\n",
    "(1)\n",
    "\n",
    "Values: 'hello', -87.8, 6\n",
    "\n",
    "Expressions: *, -, /, +\n",
    "\n",
    "\n",
    "\"\"\""
   ]
  },
  {
   "cell_type": "code",
   "execution_count": 2,
   "metadata": {},
   "outputs": [
    {
     "data": {
      "text/plain": [
       "'\\n(2)\\n\\nA variable is just the name that is a reference to an object and can be reassigned to other objects as well whereas a String is a \\nsequence of characters which are immutable in nature.\\n\\n\\n'"
      ]
     },
     "execution_count": 2,
     "metadata": {},
     "output_type": "execute_result"
    }
   ],
   "source": [
    "\"\"\"\n",
    "(2)\n",
    "\n",
    "A variable is just the name that is a reference to an object and can be reassigned to other objects as well whereas a String is a \n",
    "sequence of characters which are immutable in nature.\n",
    "\n",
    "\n",
    "\"\"\""
   ]
  },
  {
   "cell_type": "code",
   "execution_count": 3,
   "metadata": {},
   "outputs": [
    {
     "data": {
      "text/plain": [
       "'\\n(3) \\n\\nThree different data types:\\n\\nNumeric - these are number based data types that include floats, integers, complex numbers. \\nSring - Strings are a sequence of characters which as immutable in nature.\\nBoolean - these refer to true and false states\\n\\n'"
      ]
     },
     "execution_count": 3,
     "metadata": {},
     "output_type": "execute_result"
    }
   ],
   "source": [
    "\"\"\"\n",
    "(3) \n",
    "\n",
    "Three different data types:\n",
    "\n",
    "Numeric - these are number based data types that include floats, integers, complex numbers. \n",
    "Sring - Strings are a sequence of characters which as immutable in nature.\n",
    "Boolean - these refer to true and false states\n",
    "\n",
    "\"\"\""
   ]
  },
  {
   "cell_type": "code",
   "execution_count": 4,
   "metadata": {},
   "outputs": [
    {
     "data": {
      "text/plain": [
       "'\\n(4)\\nAn expression can be made up of operators, values, values etc.\\n\\nExpressions evaluate to a result.\\n\\n'"
      ]
     },
     "execution_count": 4,
     "metadata": {},
     "output_type": "execute_result"
    }
   ],
   "source": [
    "\"\"\"\n",
    "(4)\n",
    "An expression can be made up of operators, values, values etc.\n",
    "\n",
    "Expressions evaluate to a result.\n",
    "\n",
    "\"\"\""
   ]
  },
  {
   "cell_type": "code",
   "execution_count": 5,
   "metadata": {},
   "outputs": [
    {
     "data": {
      "text/plain": [
       "'\\n(5)\\n\\nAn expression always evaluates to a result whereas a statement is a command or action that does something (for instance, the print() statement gives a command to print a new line).\\n\\n\\n'"
      ]
     },
     "execution_count": 5,
     "metadata": {},
     "output_type": "execute_result"
    }
   ],
   "source": [
    "\"\"\"\n",
    "(5)\n",
    "\n",
    "An expression always evaluates to a result whereas a statement is a command or action that does something (for instance, the print() statement gives a command to print a new line).\n",
    "\n",
    "\n",
    "\"\"\""
   ]
  },
  {
   "cell_type": "code",
   "execution_count": 6,
   "metadata": {},
   "outputs": [
    {
     "data": {
      "text/plain": [
       "'\\n(6)\\n\\nSince we are only adding 1 to bacon and not incrementing or reassigning, the variable bacon will still contain 22 as per the initial statement.\\n\\n'"
      ]
     },
     "execution_count": 6,
     "metadata": {},
     "output_type": "execute_result"
    }
   ],
   "source": [
    "\"\"\"\n",
    "(6)\n",
    "\n",
    "Since we are only adding 1 to bacon and not incrementing or reassigning, the variable bacon will still contain 22 as per the initial statement.\n",
    "\n",
    "\"\"\""
   ]
  },
  {
   "cell_type": "code",
   "execution_count": 7,
   "metadata": {},
   "outputs": [
    {
     "data": {
      "text/plain": [
       "\"\\n(7)\\n\\nBoth terms give the following value:\\n'spamspamspam'\\n\\n\""
      ]
     },
     "execution_count": 7,
     "metadata": {},
     "output_type": "execute_result"
    }
   ],
   "source": [
    "\"\"\"\n",
    "(7)\n",
    "\n",
    "Both terms give the following value:\n",
    "'spamspamspam'\n",
    "\n",
    "\"\"\""
   ]
  },
  {
   "cell_type": "code",
   "execution_count": 8,
   "metadata": {},
   "outputs": [
    {
     "data": {
      "text/plain": [
       "'\\n(8)\\n\\nIn python, variables names can be alphanumeric as long as the first character is not a number and in our case, eggs is perfectly\\nacceptable whereas 100 is all numeric and therefore unacceptable as it starts with a number. \\n\\nTo fix the same, even prefixing a single character would make it an acceptable variable name such as n100 etc.\\n\\n\\n'"
      ]
     },
     "execution_count": 8,
     "metadata": {},
     "output_type": "execute_result"
    }
   ],
   "source": [
    "\"\"\"\n",
    "(8)\n",
    "\n",
    "In python, variables names can be alphanumeric as long as the first character is not a number and in our case, eggs is perfectly\n",
    "acceptable whereas 100 is all numeric and therefore unacceptable as it starts with a number. \n",
    "\n",
    "To fix the same, even prefixing a single character would make it an acceptable variable name such as n100 etc.\n",
    "\n",
    "\n",
    "\"\"\""
   ]
  },
  {
   "cell_type": "code",
   "execution_count": 9,
   "metadata": {},
   "outputs": [
    {
     "data": {
      "text/plain": [
       "'\\n(9)\\n\\nThe  int(), float(), and str() functions.\\n\\n\\n'"
      ]
     },
     "execution_count": 9,
     "metadata": {},
     "output_type": "execute_result"
    }
   ],
   "source": [
    "\"\"\"\n",
    "(9)\n",
    "\n",
    "The  int(), float(), and str() functions.\n",
    "\n",
    "\n",
    "\"\"\""
   ]
  },
  {
   "cell_type": "code",
   "execution_count": 10,
   "metadata": {},
   "outputs": [
    {
     "data": {
      "text/plain": [
       "\"\\n(10)\\n\\nThe expression causes an error as it tries to concatenate an integer value (99) but we can only concatenate string values.\\n\\nTo fix the expression we can cast 99 as a string, as follows:\\n\\n'I have eaten ' + str(99) + ' burritos'\\n\\n\""
      ]
     },
     "execution_count": 10,
     "metadata": {},
     "output_type": "execute_result"
    }
   ],
   "source": [
    "\"\"\"\n",
    "(10)\n",
    "\n",
    "The expression causes an error as it tries to concatenate an integer value (99) but we can only concatenate string values.\n",
    "\n",
    "To fix the expression we can cast 99 as a string, as follows:\n",
    "\n",
    "'I have eaten ' + str(99) + ' burritos'\n",
    "\n",
    "\"\"\""
   ]
  },
  {
   "cell_type": "code",
   "execution_count": null,
   "metadata": {},
   "outputs": [],
   "source": []
  }
 ],
 "metadata": {
  "kernelspec": {
   "display_name": "Python 3",
   "language": "python",
   "name": "python3"
  },
  "language_info": {
   "codemirror_mode": {
    "name": "ipython",
    "version": 3
   },
   "file_extension": ".py",
   "mimetype": "text/x-python",
   "name": "python",
   "nbconvert_exporter": "python",
   "pygments_lexer": "ipython3",
   "version": "3.8.5"
  }
 },
 "nbformat": 4,
 "nbformat_minor": 4
}
