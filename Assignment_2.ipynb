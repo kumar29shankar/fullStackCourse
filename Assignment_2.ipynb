{
 "cells": [
  {
   "cell_type": "code",
   "execution_count": 1,
   "metadata": {},
   "outputs": [
    {
     "data": {
      "text/plain": [
       "'\\n(1)\\n\\nThe two values of the boolean data type are true and false.\\n\\nPython syntax for the above are:\\nTrue\\nFalse\\n\\n\\n'"
      ]
     },
     "execution_count": 1,
     "metadata": {},
     "output_type": "execute_result"
    }
   ],
   "source": [
    "\"\"\"\n",
    "(1)\n",
    "\n",
    "The two values of the boolean data type are true and false.\n",
    "\n",
    "Python syntax for the above are:\n",
    "True\n",
    "False\n",
    "\n",
    "\n",
    "\"\"\""
   ]
  },
  {
   "cell_type": "code",
   "execution_count": 2,
   "metadata": {},
   "outputs": [
    {
     "data": {
      "text/plain": [
       "'\\n(2)\\n\\nThe 3 different types of boolean operators are:\\n\\nand\\nnot\\nor\\n\\n\\n\\n'"
      ]
     },
     "execution_count": 2,
     "metadata": {},
     "output_type": "execute_result"
    }
   ],
   "source": [
    "\"\"\"\n",
    "(2)\n",
    "\n",
    "The 3 different types of boolean operators are:\n",
    "\n",
    "and\n",
    "not\n",
    "or\n",
    "\n",
    "\n",
    "\n",
    "\"\"\""
   ]
  },
  {
   "cell_type": "code",
   "execution_count": 3,
   "metadata": {},
   "outputs": [
    {
     "data": {
      "text/plain": [
       "' \\n(3)\\n\\nTrue and True is True\\n\\nTrue and False is False\\n\\nTrue and not False is True\\n\\nTrue and not True is False\\n\\nTrue or not True is True\\n\\nTrue or False is True\\n\\nTrue or not False is True\\n\\nFalse and False is False\\n\\nnot True and False is False\\n\\nnot True or False is False\\n\\nnot True or not False is True\\n\\n\\n\\n\\n'"
      ]
     },
     "execution_count": 3,
     "metadata": {},
     "output_type": "execute_result"
    }
   ],
   "source": [
    "\"\"\" \n",
    "(3)\n",
    "\n",
    "True and True is True\n",
    "\n",
    "True and False is False\n",
    "\n",
    "True and not False is True\n",
    "\n",
    "True and not True is False\n",
    "\n",
    "True or not True is True\n",
    "\n",
    "True or False is True\n",
    "\n",
    "True or not False is True\n",
    "\n",
    "False and False is False\n",
    "\n",
    "not True and False is False\n",
    "\n",
    "not True or False is False\n",
    "\n",
    "not True or not False is True\n",
    "\n",
    "\n",
    "\n",
    "\n",
    "\"\"\""
   ]
  },
  {
   "cell_type": "code",
   "execution_count": 4,
   "metadata": {},
   "outputs": [
    {
     "data": {
      "text/plain": [
       "'\\n(4)\\n\\nFalse\\nFalse\\nTrue\\nFalse\\nFalse\\nTrue\\n\\n'"
      ]
     },
     "execution_count": 4,
     "metadata": {},
     "output_type": "execute_result"
    }
   ],
   "source": [
    "\"\"\"\n",
    "(4)\n",
    "\n",
    "False\n",
    "False\n",
    "True\n",
    "False\n",
    "False\n",
    "True\n",
    "\n",
    "\"\"\"\n",
    "\n"
   ]
  },
  {
   "cell_type": "code",
   "execution_count": 5,
   "metadata": {},
   "outputs": [
    {
     "data": {
      "text/plain": [
       "'\\n(5)\\n\\nThe six comparison operators are:\\n<\\n>\\n==\\n<=\\n>=\\n!=\\n\\n'"
      ]
     },
     "execution_count": 5,
     "metadata": {},
     "output_type": "execute_result"
    }
   ],
   "source": [
    "\"\"\"\n",
    "(5)\n",
    "\n",
    "The six comparison operators are:\n",
    "<\n",
    ">\n",
    "==\n",
    "<=\n",
    ">=\n",
    "!=\n",
    "\n",
    "\"\"\""
   ]
  },
  {
   "cell_type": "code",
   "execution_count": 6,
   "metadata": {},
   "outputs": [
    {
     "data": {
      "text/plain": [
       "\"\\n(6)\\nThe equal to operator is '==' and the assignment operator is '='.\\n\\nWe use '==' if we want a boolean output after comparing two values and the assignment operator to assign a value to a variable name.\\n\\n\\n\""
      ]
     },
     "execution_count": 6,
     "metadata": {},
     "output_type": "execute_result"
    }
   ],
   "source": [
    "\"\"\"\n",
    "(6)\n",
    "The equal to operator is '==' and the assignment operator is '='.\n",
    "\n",
    "We use '==' if we want a boolean output after comparing two values and the assignment operator to assign a value to a variable name.\n",
    "\n",
    "\n",
    "\"\"\""
   ]
  },
  {
   "cell_type": "code",
   "execution_count": 7,
   "metadata": {},
   "outputs": [
    {
     "data": {
      "text/plain": [
       "\"\\n(7)\\n\\nThe blocks have been identified by fixing the indentation (as below)\\n\\nspam = 0\\n\\nif spam == 10:\\n    print('eggs')\\n    \\n    \\nif spam > 5:\\n    print('bacon')\\n    \\nelse:\\n    \\n    print('ham')\\n    print('spam')\\n    print('spam')\\n\\n\\n\""
      ]
     },
     "execution_count": 7,
     "metadata": {},
     "output_type": "execute_result"
    }
   ],
   "source": [
    "\"\"\"\n",
    "(7)\n",
    "\n",
    "The blocks have been identified by fixing the indentation (as below)\n",
    "\n",
    "spam = 0\n",
    "\n",
    "if spam == 10:\n",
    "    print('eggs')\n",
    "    \n",
    "    \n",
    "if spam > 5:\n",
    "    print('bacon')\n",
    "    \n",
    "else:\n",
    "    \n",
    "    print('ham')\n",
    "    print('spam')\n",
    "    print('spam')\n",
    "\n",
    "\n",
    "\"\"\""
   ]
  },
  {
   "cell_type": "code",
   "execution_count": 8,
   "metadata": {},
   "outputs": [
    {
     "name": "stdout",
     "output_type": "stream",
     "text": [
      "Greetings!\n"
     ]
    }
   ],
   "source": [
    "\"\"\"\n",
    "(8)\n",
    "\"\"\"\n",
    "\n",
    "spam = 3\n",
    "\n",
    "if spam == 1:\n",
    "    print(\"Hello\")\n",
    "    \n",
    "      \n",
    "          \n",
    "elif spam == 2:\n",
    "    print(\"Howdy\")\n",
    "    \n",
    "\n",
    "    \n",
    "else:\n",
    "    print(\"Greetings!\")\n",
    "\n",
    "    \n",
    "\n",
    "\n",
    "\n",
    "\n"
   ]
  },
  {
   "cell_type": "code",
   "execution_count": 9,
   "metadata": {},
   "outputs": [
    {
     "data": {
      "text/plain": [
       "'\\n(9)\\n\\nTo exit from an endless loop we can use: CTRL + C\\n\\n\\n'"
      ]
     },
     "execution_count": 9,
     "metadata": {},
     "output_type": "execute_result"
    }
   ],
   "source": [
    "\"\"\"\n",
    "(9)\n",
    "\n",
    "To exit from an endless loop we can use: CTRL + C\n",
    "\n",
    "\n",
    "\"\"\""
   ]
  },
  {
   "cell_type": "code",
   "execution_count": 10,
   "metadata": {},
   "outputs": [
    {
     "data": {
      "text/plain": [
       "'\\n(10)\\n\\nBreak statement exits a loop whereas a continue statement skips the iteration of the loop being executed.\\n\\n'"
      ]
     },
     "execution_count": 10,
     "metadata": {},
     "output_type": "execute_result"
    }
   ],
   "source": [
    "\"\"\"\n",
    "(10)\n",
    "\n",
    "Break statement exits a loop whereas a continue statement skips the iteration of the loop being executed.\n",
    "\n",
    "\"\"\""
   ]
  },
  {
   "cell_type": "code",
   "execution_count": 11,
   "metadata": {},
   "outputs": [
    {
     "data": {
      "text/plain": [
       "'\\n(11)\\n\\nThere is no difference as all three ( i.e. range(10), range(0,10) and range(0,10,1)) create the same range object of 10 values starting from zero\\n\\n\\n'"
      ]
     },
     "execution_count": 11,
     "metadata": {},
     "output_type": "execute_result"
    }
   ],
   "source": [
    "\"\"\"\n",
    "(11)\n",
    "\n",
    "There is no difference as all three ( i.e. range(10), range(0,10) and range(0,10,1)) create the same range object of 10 values starting from zero\n",
    "\n",
    "\n",
    "\"\"\""
   ]
  },
  {
   "cell_type": "code",
   "execution_count": 12,
   "metadata": {},
   "outputs": [
    {
     "data": {
      "text/plain": [
       "'\\n(12)\\n\\nFor loop:\\n\\nfor i in range(10):\\n    print(i)\\n\\nWhile loop:\\n\\ni=0\\nwhile i <10 :\\n    print(i)\\n    i+=1\\n\\n\\n\\n'"
      ]
     },
     "execution_count": 12,
     "metadata": {},
     "output_type": "execute_result"
    }
   ],
   "source": [
    "\"\"\"\n",
    "(12)\n",
    "\n",
    "For loop:\n",
    "\n",
    "for i in range(10):\n",
    "    print(i)\n",
    "\n",
    "While loop:\n",
    "\n",
    "i=0\n",
    "while i <10 :\n",
    "    print(i)\n",
    "    i+=1\n",
    "\n",
    "\n",
    "\n",
    "\"\"\""
   ]
  },
  {
   "cell_type": "code",
   "execution_count": 13,
   "metadata": {},
   "outputs": [
    {
     "data": {
      "text/plain": [
       "'\\n(13)\\n\\nspam.bacon()\\n\\n\\n\\n'"
      ]
     },
     "execution_count": 13,
     "metadata": {},
     "output_type": "execute_result"
    }
   ],
   "source": [
    "\"\"\"\n",
    "(13)\n",
    "\n",
    "spam.bacon()\n",
    "\n",
    "\n",
    "\n",
    "\"\"\""
   ]
  },
  {
   "cell_type": "code",
   "execution_count": null,
   "metadata": {},
   "outputs": [],
   "source": []
  },
  {
   "cell_type": "code",
   "execution_count": null,
   "metadata": {},
   "outputs": [],
   "source": []
  }
 ],
 "metadata": {
  "kernelspec": {
   "display_name": "Python 3",
   "language": "python",
   "name": "python3"
  },
  "language_info": {
   "codemirror_mode": {
    "name": "ipython",
    "version": 3
   },
   "file_extension": ".py",
   "mimetype": "text/x-python",
   "name": "python",
   "nbconvert_exporter": "python",
   "pygments_lexer": "ipython3",
   "version": "3.8.5"
  }
 },
 "nbformat": 4,
 "nbformat_minor": 4
}
